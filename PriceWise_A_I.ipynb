{
  "nbformat": 4,
  "nbformat_minor": 0,
  "metadata": {
    "colab": {
      "provenance": [],
      "gpuType": "T4"
    },
    "kernelspec": {
      "name": "python3",
      "display_name": "Python 3"
    },
    "language_info": {
      "name": "python"
    },
    "accelerator": "GPU"
  },
  "cells": [
    {
      "cell_type": "markdown",
      "source": [
        "Setup"
      ],
      "metadata": {
        "id": "TI_DgJHVQ1Dp"
      }
    },
    {
      "cell_type": "code",
      "execution_count": 1,
      "metadata": {
        "id": "7WeYVVcIQyQT"
      },
      "outputs": [],
      "source": [
        "import numpy as np, pandas as pd, joblib, math, os\n",
        "from sklearn.linear_model import Ridge\n",
        "from sklearn.preprocessing import OneHotEncoder\n",
        "from sklearn.compose import ColumnTransformer\n",
        "from sklearn.pipeline import Pipeline\n",
        "from sklearn.metrics import r2_score\n",
        "np.set_printoptions(suppress=True, floatmode=\"fixed\")\n",
        "\n",
        "DATA_DIR = \"/content/data\""
      ]
    },
    {
      "cell_type": "markdown",
      "source": [
        "Load & prepare"
      ],
      "metadata": {
        "id": "SHkCeCN7RUi1"
      }
    },
    {
      "cell_type": "code",
      "source": [
        "!mkdir -p ~/.kaggle\n",
        "!cp /content/kaggle.json ~/.kaggle/\n",
        "!chmod 600 ~/.kaggle/kaggle.json\n",
        "\n",
        "!pip -q install kaggle\n",
        "!mkdir -p /content/data\n",
        "\n",
        "# Download the single ZIP for the competition\n",
        "!kaggle competitions download -c m5-forecasting-accuracy -p /content/data\n",
        "\n",
        "# Unzip the actual archive we just downloaded\n",
        "%cd /content/data\n",
        "!unzip -o m5-forecasting-accuracy.zip calendar.csv sell_prices.csv sales_train_validation.csv || unzip -o m5-forecasting-accuracy.zip\n",
        "%cd /content\n",
        "\n",
        "# sanity check\n",
        "import os, pandas as pd\n",
        "print(os.listdir(\"/content/data\"))\n"
      ],
      "metadata": {
        "colab": {
          "base_uri": "https://localhost:8080/"
        },
        "id": "e0PMfbp_RtAE",
        "outputId": "c9852f87-386f-420b-90ff-0dabbe3c00e8"
      },
      "execution_count": 5,
      "outputs": [
        {
          "output_type": "stream",
          "name": "stdout",
          "text": [
            "m5-forecasting-accuracy.zip: Skipping, found more recently modified local copy (use --force to force download)\n",
            "/content/data\n",
            "Archive:  m5-forecasting-accuracy.zip\n",
            "  inflating: calendar.csv            \n",
            "  inflating: sales_train_validation.csv  \n",
            "  inflating: sell_prices.csv         \n",
            "/content\n",
            "['m5-forecasting-accuracy.zip', 'sales_train_validation.csv', 'sell_prices.csv', 'calendar.csv']\n"
          ]
        }
      ]
    },
    {
      "cell_type": "code",
      "source": [
        "cal = pd.read_csv(f\"{DATA_DIR}/calendar.csv\")\n",
        "prices = pd.read_csv(f\"{DATA_DIR}/sell_prices.csv\")\n",
        "sales = pd.read_csv(f\"{DATA_DIR}/sales_train_validation.csv\")\n",
        "\n",
        "# pick one store and one category for a focused example\n",
        "store_id = \"CA_1\"\n",
        "cat_id = \"FOODS\"\n",
        "\n",
        "meta = sales[['id','item_id','dept_id','cat_id','store_id','state_id']]\n",
        "keep_ids = meta[(meta['store_id']==store_id) & (meta['cat_id'].str.startswith(cat_id))]['id']\n",
        "\n",
        "sales_small = sales[sales['id'].isin(keep_ids)].copy()\n",
        "# Melt to long format (daily demand)\n",
        "value_cols = [c for c in sales_small.columns if c.startswith('d_')]\n",
        "df = sales_small[['id','item_id','dept_id','cat_id','store_id','state_id']+value_cols] \\\n",
        "        .melt(id_vars=['id','item_id','dept_id','cat_id','store_id','state_id'],\n",
        "              var_name='d', value_name='qty')\n",
        "\n",
        "# Map day -> calendar\n",
        "cal_small = cal[['d','date','wm_yr_wk','weekday','wday','month','event_name_1','event_type_1']].copy()\n",
        "df = df.merge(cal_small, on='d', how='left')\n",
        "\n",
        "# Map (store, item, week) -> sell_price\n",
        "pmap = prices[prices['store_id']==store_id][['store_id','item_id','wm_yr_wk','sell_price']]\n",
        "df = df.merge(pmap, on=['store_id','item_id','wm_yr_wk'], how='left')\n",
        "\n",
        "# Basic cleaning\n",
        "df['sell_price'] = df['sell_price'].fillna(method='ffill').fillna(method='bfill')\n",
        "df = df.dropna(subset=['sell_price'])\n",
        "df['log_price'] = np.log(df['sell_price'])\n",
        "df['log_qty']   = np.log1p(df['qty'])   # log(1+q) for zeros\n",
        "df['is_event']  = (~df['event_name_1'].isna()).astype(int)\n",
        "\n",
        "# Keep last ~18 months to match price coverage\n",
        "df['date'] = pd.to_datetime(df['date'])\n",
        "df = df[df['date'] >= (df['date'].max() - pd.Timedelta(days=540))].copy()\n",
        "df.head(), df.shape"
      ],
      "metadata": {
        "colab": {
          "base_uri": "https://localhost:8080/"
        },
        "id": "tE69sBUWRWJe",
        "outputId": "1d6646e6-6ea5-452c-e5c6-208e30507924"
      },
      "execution_count": 6,
      "outputs": [
        {
          "output_type": "stream",
          "name": "stderr",
          "text": [
            "/tmp/ipython-input-932298412.py:28: FutureWarning: Series.fillna with 'method' is deprecated and will raise in a future version. Use obj.ffill() or obj.bfill() instead.\n",
            "  df['sell_price'] = df['sell_price'].fillna(method='ffill').fillna(method='bfill')\n"
          ]
        },
        {
          "output_type": "execute_result",
          "data": {
            "text/plain": [
              "(                                  id      item_id  dept_id cat_id store_id  \\\n",
              " 1971564  FOODS_1_001_CA_1_validation  FOODS_1_001  FOODS_1  FOODS     CA_1   \n",
              " 1971565  FOODS_1_002_CA_1_validation  FOODS_1_002  FOODS_1  FOODS     CA_1   \n",
              " 1971566  FOODS_1_003_CA_1_validation  FOODS_1_003  FOODS_1  FOODS     CA_1   \n",
              " 1971567  FOODS_1_004_CA_1_validation  FOODS_1_004  FOODS_1  FOODS     CA_1   \n",
              " 1971568  FOODS_1_005_CA_1_validation  FOODS_1_005  FOODS_1  FOODS     CA_1   \n",
              " \n",
              "         state_id       d  qty       date  wm_yr_wk   weekday  wday  month  \\\n",
              " 1971564       CA  d_1373    0 2014-11-01     11440  Saturday     1     11   \n",
              " 1971565       CA  d_1373    1 2014-11-01     11440  Saturday     1     11   \n",
              " 1971566       CA  d_1373    1 2014-11-01     11440  Saturday     1     11   \n",
              " 1971567       CA  d_1373   10 2014-11-01     11440  Saturday     1     11   \n",
              " 1971568       CA  d_1373    0 2014-11-01     11440  Saturday     1     11   \n",
              " \n",
              "         event_name_1 event_type_1  sell_price  log_price   log_qty  is_event  \n",
              " 1971564          NaN          NaN        2.24   0.806476  0.000000         0  \n",
              " 1971565          NaN          NaN        9.48   2.249184  0.693147         0  \n",
              " 1971566          NaN          NaN        2.88   1.057790  0.693147         0  \n",
              " 1971567          NaN          NaN        1.96   0.672944  2.397895         0  \n",
              " 1971568          NaN          NaN        3.54   1.264127  0.000000         0  ,\n",
              " (777417, 19))"
            ]
          },
          "metadata": {},
          "execution_count": 6
        }
      ]
    },
    {
      "cell_type": "markdown",
      "source": [
        "Fit a log-linear demand model"
      ],
      "metadata": {
        "id": "kWBGlNCjTdD0"
      }
    },
    {
      "cell_type": "code",
      "source": [
        "feat_cols = ['log_price','weekday','month','is_event','item_id']\n",
        "X = df[feat_cols].copy()\n",
        "y = df['log_qty'].values\n",
        "\n",
        "preproc = ColumnTransformer([\n",
        "    ('passthrough', 'passthrough', ['log_price']),\n",
        "    ('cat', OneHotEncoder(handle_unknown='ignore'),\n",
        "     ['weekday','month','is_event','item_id'])\n",
        "])\n",
        "\n",
        "model = Pipeline([\n",
        "    ('prep', preproc),\n",
        "    ('ridge', Ridge(alpha=1.0))\n",
        "])\n",
        "\n",
        "model.fit(X, y)\n",
        "y_hat = model.predict(X)\n",
        "print(\"In-sample R^2:\", round(r2_score(y, y_hat), 3))\n",
        "elasticity = float(model.named_steps['ridge'].coef_[0])\n",
        "print(\"Approx. price elasticity (should be negative):\", round(elasticity, 3))"
      ],
      "metadata": {
        "colab": {
          "base_uri": "https://localhost:8080/"
        },
        "id": "nz43CHp2Tdla",
        "outputId": "6773b816-d2d8-450f-f6ac-dd1519d6fa2e"
      },
      "execution_count": 7,
      "outputs": [
        {
          "output_type": "stream",
          "name": "stdout",
          "text": [
            "In-sample R^2: 0.428\n",
            "Approx. price elasticity (should be negative): -0.261\n"
          ]
        }
      ]
    },
    {
      "cell_type": "markdown",
      "source": [
        "Create a discrete price grid and revenue scorer"
      ],
      "metadata": {
        "id": "GLYtvh93Tj41"
      }
    },
    {
      "cell_type": "code",
      "source": [
        "# build per-item price grids from historical min/max\n",
        "bounds = df.groupby('item_id')['sell_price'].agg(['min','max']).reset_index()\n",
        "def make_grid(mn, mx, steps=6):\n",
        "    if pd.isna(mn) or pd.isna(mx) or mn <= 0: return []\n",
        "    if mx <= mn: mx = mn * 1.1\n",
        "    return list(np.round(np.linspace(mn*0.9, mx*1.1, steps), 2))\n",
        "\n",
        "price_grid = {r.item_id: make_grid(r['min'], r['max']) for _, r in bounds.iterrows()}\n",
        "\n",
        "def expected_qty(context_row, trial_price):\n",
        "    row = context_row.copy()\n",
        "    row['log_price'] = math.log(trial_price)\n",
        "    # predict log(1+qty) then invert\n",
        "    mu = float(model.predict(row[feat_cols].to_frame().T)[0])\n",
        "    return max(0.0, math.exp(mu) - 1.0)\n",
        "\n",
        "def expected_revenue(context_row, trial_price):\n",
        "    return trial_price * expected_qty(context_row, trial_price)"
      ],
      "metadata": {
        "id": "B-o-7nKATldG"
      },
      "execution_count": 8,
      "outputs": []
    },
    {
      "cell_type": "markdown",
      "source": [
        "Contextual LinUCB on real covariates"
      ],
      "metadata": {
        "id": "huH_eiHhTpNY"
      }
    },
    {
      "cell_type": "code",
      "source": [
        "# Build a pool of contexts (one per (date,item) row)\n",
        "pool = df[['item_id','weekday','month','is_event']].copy()\n",
        "pool['log_price'] = 0.0  # placeholder; price varies per arm\n",
        "\n",
        "# Numerical encoding for LinUCB context\n",
        "ctx_cols = ['weekday','month','is_event']\n",
        "enc = OneHotEncoder(handle_unknown='ignore', sparse_output=False)\n",
        "Xctx = enc.fit_transform(pool[ctx_cols])\n",
        "d = Xctx.shape[1]\n",
        "\n",
        "class LinUCB:\n",
        "    def __init__(self, d, alpha=0.8):\n",
        "        self.alpha = alpha\n",
        "        self.A = np.eye(d)\n",
        "        self.b = np.zeros(d)\n",
        "    def select(self, x, prices, proto_row):\n",
        "        scores = []\n",
        "        A_inv = np.linalg.inv(self.A); theta = A_inv @ self.b\n",
        "        for p in prices:\n",
        "            mu = expected_revenue(proto_row, p)  # context-aware expected revenue\n",
        "            # use same A_inv for all arms here (shared model); you can make per-arm matrices too\n",
        "            sigma = math.sqrt(x @ A_inv @ x)\n",
        "            scores.append(mu + self.alpha * sigma)\n",
        "        idx = int(np.argmax(scores))\n",
        "        return idx, scores\n",
        "    def update(self, x, reward):\n",
        "        self.A += np.outer(x, x)\n",
        "        self.b += reward * x\n",
        "\n",
        "agent = LinUCB(d=d, alpha=0.8)\n",
        "rng = np.random.default_rng(7)\n",
        "\n",
        "T = 5000\n",
        "cum_rev = 0.0\n",
        "taken = []\n",
        "\n",
        "for t in range(T):\n",
        "    j = rng.integers(0, len(pool))\n",
        "    row = df.iloc[j]\n",
        "    proto = row[feat_cols].copy()\n",
        "    item = row['item_id']\n",
        "    grid = price_grid.get(item, [])\n",
        "    if len(grid) < 2:\n",
        "        continue\n",
        "\n",
        "    x = Xctx[j]\n",
        "    arm, scores = agent.select(x, grid, proto)\n",
        "    price = grid[arm]\n",
        "\n",
        "    # Sample realized demand around expected qty (Poisson)\n",
        "    lam = expected_qty(proto, price)\n",
        "    qty = rng.poisson(max(1e-6, lam))\n",
        "    reward = price * qty\n",
        "\n",
        "    agent.update(x, reward)\n",
        "    cum_rev += reward\n",
        "    taken.append(reward)\n",
        "\n",
        "print(\"Steps:\", len(taken), \" Avg revenue/impression:\", round(cum_rev/len(taken), 3))"
      ],
      "metadata": {
        "colab": {
          "base_uri": "https://localhost:8080/"
        },
        "id": "InEUWSpFTp0u",
        "outputId": "9b9067ee-5807-46f2-a6f8-72618e522106"
      },
      "execution_count": 9,
      "outputs": [
        {
          "output_type": "stream",
          "name": "stdout",
          "text": [
            "Steps: 5000  Avg revenue/impression: 4.08\n"
          ]
        }
      ]
    },
    {
      "cell_type": "markdown",
      "source": [
        "Export artifact for the API"
      ],
      "metadata": {
        "id": "pQoP5QXRTwcd"
      }
    },
    {
      "cell_type": "code",
      "source": [
        "ARTIFACT_DIR = \"artifacts_m5\"\n",
        "os.makedirs(ARTIFACT_DIR, exist_ok=True)\n",
        "joblib.dump({\n",
        "    \"onehot\": enc,\n",
        "    \"feature_cols\": feat_cols,\n",
        "    \"ctx_cols\": ctx_cols,\n",
        "    \"price_grid\": price_grid,\n",
        "    \"model_pipe\": model  # demand predictor\n",
        "}, f\"{ARTIFACT_DIR}/m5_price_artifacts.pkl\")\n",
        "\n",
        "print(\"Saved:\", f\"{ARTIFACT_DIR}/m5_price_artifacts.pkl\")\n",
        "print(\"Items with grids:\", sum(len(v)>=2 for v in price_grid.values()))"
      ],
      "metadata": {
        "colab": {
          "base_uri": "https://localhost:8080/"
        },
        "id": "KJHIrViiTyBi",
        "outputId": "324bd660-5e55-4775-9f1b-3dd45978d5d3"
      },
      "execution_count": 10,
      "outputs": [
        {
          "output_type": "stream",
          "name": "stdout",
          "text": [
            "Saved: artifacts_m5/m5_price_artifacts.pkl\n",
            "Items with grids: 1437\n"
          ]
        }
      ]
    },
    {
      "cell_type": "code",
      "source": [
        "from google.colab import files\n",
        "files.download('/content/artifacts_m5/m5_price_artifacts.pkl')"
      ],
      "metadata": {
        "colab": {
          "base_uri": "https://localhost:8080/",
          "height": 17
        },
        "id": "d79W_NKFVUJc",
        "outputId": "4cd87287-b01a-4b8d-ddfc-e88ce4545ef5"
      },
      "execution_count": 11,
      "outputs": [
        {
          "output_type": "display_data",
          "data": {
            "text/plain": [
              "<IPython.core.display.Javascript object>"
            ],
            "application/javascript": [
              "\n",
              "    async function download(id, filename, size) {\n",
              "      if (!google.colab.kernel.accessAllowed) {\n",
              "        return;\n",
              "      }\n",
              "      const div = document.createElement('div');\n",
              "      const label = document.createElement('label');\n",
              "      label.textContent = `Downloading \"${filename}\": `;\n",
              "      div.appendChild(label);\n",
              "      const progress = document.createElement('progress');\n",
              "      progress.max = size;\n",
              "      div.appendChild(progress);\n",
              "      document.body.appendChild(div);\n",
              "\n",
              "      const buffers = [];\n",
              "      let downloaded = 0;\n",
              "\n",
              "      const channel = await google.colab.kernel.comms.open(id);\n",
              "      // Send a message to notify the kernel that we're ready.\n",
              "      channel.send({})\n",
              "\n",
              "      for await (const message of channel.messages) {\n",
              "        // Send a message to notify the kernel that we're ready.\n",
              "        channel.send({})\n",
              "        if (message.buffers) {\n",
              "          for (const buffer of message.buffers) {\n",
              "            buffers.push(buffer);\n",
              "            downloaded += buffer.byteLength;\n",
              "            progress.value = downloaded;\n",
              "          }\n",
              "        }\n",
              "      }\n",
              "      const blob = new Blob(buffers, {type: 'application/binary'});\n",
              "      const a = document.createElement('a');\n",
              "      a.href = window.URL.createObjectURL(blob);\n",
              "      a.download = filename;\n",
              "      div.appendChild(a);\n",
              "      a.click();\n",
              "      div.remove();\n",
              "    }\n",
              "  "
            ]
          },
          "metadata": {}
        },
        {
          "output_type": "display_data",
          "data": {
            "text/plain": [
              "<IPython.core.display.Javascript object>"
            ],
            "application/javascript": [
              "download(\"download_0d16d353-2240-490e-81b9-52888fecebe0\", \"m5_price_artifacts.pkl\", 225830)"
            ]
          },
          "metadata": {}
        }
      ]
    }
  ]
}